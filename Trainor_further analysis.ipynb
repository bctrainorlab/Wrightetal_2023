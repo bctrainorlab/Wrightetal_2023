{
 "cells": [
  {
   "cell_type": "code",
   "execution_count": null,
   "metadata": {},
   "outputs": [],
   "source": [
    "import statsmodels.api as sm\n",
    "import statsmodels.formula.api as smf\n",
    "from statsmodels.formula.api import glm\n",
    "import pandas as pd\n",
    "import pingouin as pg\n",
    "import numpy as np\n",
    "import matplotlib.pyplot as plt"
   ]
  },
  {
   "cell_type": "code",
   "execution_count": null,
   "metadata": {},
   "outputs": [],
   "source": [
    "#Proximate/Distance Angle Analysis Between Focal and Target Mice"
   ]
  },
  {
   "cell_type": "code",
   "execution_count": null,
   "metadata": {},
   "outputs": [],
   "source": [
    "# read in files like this. \n",
    "mouse_id = ['Animal#1', 'Animal#2', 'Animal#3', 'Animal#4', 'Animal#5']\n",
    "data_dir = '/Users/File Path/'\n",
    "suffix = 'your suffix.csv'\n",
    "data_files = [data_dir + mouse + suffix for mouse in mouse_id]\n",
    "print(data_files)"
   ]
  },
  {
   "cell_type": "code",
   "execution_count": null,
   "metadata": {},
   "outputs": [],
   "source": [
    "# read in to pandas like this. \n",
    "df_list = [pd.read_csv(file) for file in data_files]\n",
    "\n",
    "# add a column with the mouse id\n",
    "for i, id in enumerate(mouse_id):\n",
    "    df_list[i] = df_list[i].assign(mouse_id=id)\n",
    "    \n",
    "# merge datasets.\n",
    "df_merge = pd.concat(df_list, axis=0, ignore_index=True)"
   ]
  },
  {
   "cell_type": "code",
   "execution_count": null,
   "metadata": {},
   "outputs": [],
   "source": [
    "#get rid of all the columns we're not using for this analysis\n",
    "df_merge = df_merge.drop (['time','NN_sniff','NN_new','dFF'], axis=1)\n",
    "df_merge"
   ]
  },
  {
   "cell_type": "code",
   "execution_count": null,
   "metadata": {},
   "outputs": [],
   "source": [
    "#Bin into central, peripheral, and facing away\n",
    "#Then bin by prox/distance between focal and target mice\n",
    "\n",
    "df_merge.loc[df_merge['angle'].between(0, 40, 'both'), 'bin_angle'] = '40'\n",
    "df_merge.loc[df_merge['angle'].between(40, 100, 'right'), 'bin_angle'] = '100'\n",
    "df_merge.loc[df_merge['angle'].between(100, 180, 'right'), 'bin_angle'] = '180'\n",
    "df_merge['bin_angle'] = df_merge['bin_angle'].astype(float)\n",
    "\n",
    "df_merge.loc[df_merge['angle_distant'].between(0, 40, 'both'), 'bin_watch'] = '40'\n",
    "df_merge.loc[df_merge['angle_distant'].between(40, 100, 'right'), 'bin_watch'] = '100'\n",
    "df_merge.loc[df_merge['angle_distant'].between(100, 180, 'right'), 'bin_watch'] = '180'\n",
    "df_merge['bin_watch'] = df_merge['bin_watch'].astype(float)\n",
    "\n",
    "df_merge.loc[df_merge['angle_in_proximity'].between(0, 40, 'both'), 'bin_prox_angle'] = '40'\n",
    "df_merge.loc[df_merge['angle_in_proximity'].between(40, 100, 'right'), 'bin_prox_angle'] = '100'\n",
    "df_merge.loc[df_merge['angle_in_proximity'].between(100, 180, 'right'), 'bin_prox_angle'] = '180'\n",
    "df_merge['bin_prox_angle'] = df_merge['bin_prox_angle'].astype(float)\n",
    "\n",
    "df_merge"
   ]
  },
  {
   "cell_type": "code",
   "execution_count": null,
   "metadata": {},
   "outputs": [],
   "source": [
    "df_merge.to_csv('/Users/File Path/df_merge.csv')"
   ]
  },
  {
   "cell_type": "code",
   "execution_count": null,
   "metadata": {},
   "outputs": [],
   "source": [
    "#Linear Mixed Effects Model for Angle DAta"
   ]
  },
  {
   "cell_type": "code",
   "execution_count": null,
   "metadata": {},
   "outputs": [],
   "source": [
    "data = pd.read_csv('/Users/File Path/test.csv')"
   ]
  },
  {
   "cell_type": "code",
   "execution_count": null,
   "metadata": {},
   "outputs": [],
   "source": [
    "md = smf.mixedlm(\"zscore ~ condition * surgery * bin_angle\", data, groups=data[\"mouse\"] ) \n",
    "\n",
    "mdf = md.fit()\n",
    "print(mdf.summary())"
   ]
  },
  {
   "cell_type": "code",
   "execution_count": null,
   "metadata": {},
   "outputs": [],
   "source": [
    "#Linear Mixed Effects Model for Behavioral Data"
   ]
  },
  {
   "cell_type": "code",
   "execution_count": null,
   "metadata": {},
   "outputs": [],
   "source": [
    "data = pd.read_csv('/Users/File Path/NN Sniff Total.csv')"
   ]
  },
  {
   "cell_type": "code",
   "execution_count": null,
   "metadata": {},
   "outputs": [],
   "source": [
    "baseline = list( data['baseline'] )\n",
    "initial = list( data['initial'] )\n",
    "extended = list( data['extended'] )\n",
    "\n",
    "auc = baseline + initial + extended \n",
    "\n",
    "period = ['baseline']*len(baseline) + ['initial']*len(initial) + ['extended']*len(extended)\n",
    "animal_info = data[['mouse', 'condition', 'surgery']]\n",
    "animal_info_long = pd.concat([animal_info, animal_info, animal_info], axis=0)\n",
    "\n",
    "animal_info_long['auc'] = auc\n",
    "animal_info_long['period'] = period\n",
    "\n",
    "animal_info_long.head()\n",
    "df = animal_info_long.copy()\n",
    "df.head()"
   ]
  },
  {
   "cell_type": "code",
   "execution_count": null,
   "metadata": {},
   "outputs": [],
   "source": [
    "md = smf.mixedlm(\"auc ~ surgery * condition * period\", df, groups=df[\"mouse\"] ) \n",
    "# report python package, version, and this line in the manuscript. \n",
    "\n",
    "# md = smf.mixedlm(\"auc ~ surgery * condition * period\", df, groups=df[\"mouse\"], re_formula='1') #random effects formula\n",
    "mdf = md.fit()\n",
    "print(mdf.summary())"
   ]
  },
  {
   "cell_type": "code",
   "execution_count": null,
   "metadata": {},
   "outputs": [],
   "source": [
    "sum = mdf.summary()\n",
    "sum"
   ]
  },
  {
   "cell_type": "code",
   "execution_count": null,
   "metadata": {},
   "outputs": [],
   "source": []
  }
 ],
 "metadata": {
  "kernelspec": {
   "display_name": "Python 3",
   "language": "python",
   "name": "python3"
  },
  "language_info": {
   "codemirror_mode": {
    "name": "ipython",
    "version": 3
   },
   "file_extension": ".py",
   "mimetype": "text/x-python",
   "name": "python",
   "nbconvert_exporter": "python",
   "pygments_lexer": "ipython3",
   "version": "3.8.3"
  }
 },
 "nbformat": 4,
 "nbformat_minor": 5
}
